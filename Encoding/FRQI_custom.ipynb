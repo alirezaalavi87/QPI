{
 "cells": [
  {
   "cell_type": "markdown",
   "metadata": {},
   "source": [
    "# Flexible representation of quantum images - [FRQI](https://link.springer.com/content/pdf/10.1007/s11128-010-0177-y.pdf)\n",
    "\n",
    "**with custom image as input**"
   ]
  },
  {
   "cell_type": "markdown",
   "metadata": {},
   "source": [
    "## Representation equation $| I(\\theta)\\rangle = \\frac{1}{2^n}\\sum_{i=0}^{2^{2n}-1}(cos\\theta_i | 0 \\rangle + sin\\theta_i | 1 \\rangle) \\otimes | i \\rangle$, where\n",
    "\n",
    "$\\theta_i$ - continuous representation of the inensity,\n",
    "\n",
    "$i$ - binary expansion of the pixel coordinate."
   ]
  },
  {
   "cell_type": "markdown",
   "metadata": {},
   "source": [
    "Step 0: dependencies import"
   ]
  },
  {
   "cell_type": "code",
   "execution_count": 1,
   "metadata": {},
   "outputs": [],
   "source": [
    "from qiskit import QuantumRegister, ClassicalRegister\n",
    "from qiskit import QuantumCircuit\n",
    "from qiskit import transpile, assemble, transpiler\n",
    "from qiskit.visualization import plot_histogram\n",
    "from qiskit_aer import Aer\n",
    "import matplotlib.pyplot as plt\n",
    "import numpy as np\n",
    "import math\n",
    "from ibm_washington_config import coupling_map, basis_gates\n",
    "from ionq_config import coupling_map, basis_gates\n",
    "#TODO put image_utils in helpers/ -> ISSUE: I don't know how to import it from there\n",
    "from image_utils import image_grayscale, image_resize, image_pixel_matrix"
   ]
  },
  {
   "cell_type": "markdown",
   "metadata": {},
   "source": [
    "Step 1:  \n",
    "- import, resize and grayscale the image\n",
    "- convert image into pixel matrix"
   ]
  },
  {
   "cell_type": "code",
   "execution_count": 12,
   "metadata": {},
   "outputs": [
    {
     "name": "stdout",
     "output_type": "stream",
     "text": [
      "[[169 171 159 189 186 185 181 179 178 189 185 176 170 179 182 186 188 183\n",
      "  184 187 185 175 182 184 176 174 169 169 158 164 180 177]\n",
      " [202 207 201 218 216 216 205 215 210 215 219 210 200 201 198 204 208 199\n",
      "  201 211 216 197 194 193 190 192 185 193 194 185 202 201]\n",
      " [180 190 190 179 176 179 167 190 194 210 206 197 210 214 226 223 221 217\n",
      "  215 208 198 201 205 206 214 223 221 216 202 195 182 211]\n",
      " [162 163 162 175 170 157 172 175 167 165 165 171 184 197 191 177 175 176\n",
      "  175 179 182 174 167 173 180 178 172 157 171 186 186 193]\n",
      " [149 162 166 173 165 216 244 241 214 166 198 232 206 173 222 229 180 217\n",
      "  232 232 233 212 201 221 229 224 226 233 226 218 217 214]\n",
      " [134 142 149 143 190 255 231 237 255 196 204 255 210 161 246 253 171 233\n",
      "  255 242 253 255 233 233 255 252 247 251 224 215 213 215]\n",
      " [116 111 121 116 202 255 194 164 210 185 195 255 200 148 242 250 159 227\n",
      "  255 200 213 255 226 220 255 236 211 198 194 191 200 205]\n",
      " [ 91  95  94  91 156 255 252 201 139 125 189 255 189 130 242 249 137 220\n",
      "  255 207 227 250 194 221 255 241 220 206 167 166 182 200]\n",
      " [ 78  78  86  83  89 168 242 255 235 125 170 255 182 121 240 248 141 219\n",
      "  255 255 255 213 126 213 255 255 255 240 140 137 163 196]\n",
      " [ 74  72  80  89  86  90 107 204 255 187 164 255 176  93 234 249 137 223\n",
      "  255 192 220 254 201 213 255 209 168 163 121 110 119 160]\n",
      " [ 71  69  68  75 184 229 117 130 255 196 153 255 195 113 242 246 120 218\n",
      "  255 177 200 255 203 211 255 197 135 139 134 119  98 108]\n",
      " [ 64  66  68  67 146 255 240 238 255 140 104 246 255 241 255 197  90 220\n",
      "  255 168 198 255 172 185 255 196 129 125 112  87  79  86]\n",
      " [ 58  69  69  68  72 135 185 184 126  66  66 112 178 191 155  95  87 161\n",
      "  204 161 173 202 156 146 186 145 103 109 101  93  87  81]\n",
      " [ 52  59  63  68  70  63  60  68  64  67  66  58  61  60  61  64  69  81\n",
      "  139 182 164 154 156 157 163 176 169 165 150 138 147 144]\n",
      " [ 75  72  75  92 101 109 109 101 102  97  97 117 116 121 119 113 113 113\n",
      "  131 164 179 173 174 182 200 194 182 178 186 180 175 176]\n",
      " [139 139 137 145 155 161 161 157 162 164 167 165 162 169 154 161 165 165\n",
      "  163 165 174 171 178 175 174 175 180 170 167 163 163 162]\n",
      " [115 121 128 136 141 148 142 142 148 154 158 150 152 152 156 158 151 148\n",
      "  152 157 170 169 173 168 162 170 164 153 152 145 136 125]]\n",
      " width: 32 height: 17\n"
     ]
    },
    {
     "data": {
      "image/png": "[encoded data removed]",
      "text/plain": [
       "<Figure size 640x480 with 1 Axes>"
      ]
     },
     "metadata": {},
     "output_type": "display_data"
    }
   ],
   "source": [
    "img_input_path = \"../images/SURF-600px.jpg\"\n",
    "target_image_path = \"../images/output.png\"\n",
    "image_resize(img_input_path, target_image_path, width=32)\n",
    "image_grayscale(target_image_path, target_image_path)\n",
    "\n",
    "# Image matrix\n",
    "image = image_pixel_matrix(target_image_path)\n",
    "print(image)\n",
    "\n",
    "print(\" width: \" + str(len(image[0])) + \" height: \" + str(len(image)))\n",
    "\n",
    "plt.imshow(image, cmap='gray')\n",
    "plt.title('target image')\n",
    "plt.show()"
   ]
  },
  {
   "cell_type": "markdown",
   "metadata": {},
   "source": [
    "Step 2: flattening image into vector (for convenience). Calculation of sufficient nuber of qubits."
   ]
  },
  {
   "cell_type": "code",
   "execution_count": 13,
   "metadata": {},
   "outputs": [],
   "source": [
    "input_im = image.copy().flatten()\n",
    "thetas = np.interp(input_im, (0, 256), (0, np.pi/2))\n",
    "coord_q_num = int(np.ceil(math.log(len(input_im), 2)))"
   ]
  },
  {
   "cell_type": "markdown",
   "metadata": {},
   "source": [
    "Step 3: quantum circuit building."
   ]
  },
  {
   "cell_type": "code",
   "execution_count": 14,
   "metadata": {},
   "outputs": [
    {
     "data": {
      "text/plain": [
       "<qiskit.circuit.instructionset.InstructionSet at 0x77ad640010c0>"
      ]
     },
     "execution_count": 14,
     "metadata": {},
     "output_type": "execute_result"
    }
   ],
   "source": [
    "O = QuantumRegister(coord_q_num, 'coordinates')\n",
    "c = QuantumRegister(1,'c_reg')\n",
    "cr = ClassicalRegister(O.size+c.size, \"cl_reg\")\n",
    "\n",
    "qc_image = QuantumCircuit(c, O, cr)\n",
    "num_qubits = qc_image.num_qubits\n",
    "input_im = image.copy().flatten()\n",
    "qc_image.id(c)\n",
    "qc_image.h(O)\n",
    "\n",
    "controls_ = []\n",
    "for i, _ in enumerate(O):\n",
    "    controls_.extend([O[i]])\n",
    "\n",
    "for i, theta in enumerate(thetas):\n",
    "    qubit_index_bin = \"{0:b}\".format(i).zfill(coord_q_num)\n",
    "    \n",
    "    for k, qub_ind in enumerate(qubit_index_bin):\n",
    "        if int(qub_ind):\n",
    "            qc_image.x(O[k])\n",
    "            \n",
    "    # qc_image.barrier()\n",
    "    # for coord_or_intns in (0,1):\n",
    "    qc_image.mcry(theta=2*theta,\n",
    "                  q_controls=controls_,\n",
    "                  q_target=c[0])\n",
    "\n",
    "    # qc_image.barrier()\n",
    "    for k, qub_ind in enumerate(qubit_index_bin):\n",
    "        if int(qub_ind):\n",
    "            qc_image.x(O[k])\n",
    "           \n",
    "    # qc_image.barrier()\n",
    "\n",
    "qc_image.measure(list(reversed(range(qc_image.num_qubits))), list(range(cr.size)))"
   ]
  },
  {
   "cell_type": "markdown",
   "metadata": {},
   "source": [
    "Metrics\n",
    "\n",
    "| Image size  | Depth measure | # of utilized qubits |Washington depth | IonQ depth |\n",
    "| ------------- | ------------- | -------------------|-----------------|------------|\n",
    "| 2  | 20  | 3 | 211| 98|\n",
    "| 4  | 467  | 5 | 2776| 962|\n",
    "| 8  | 8003  | 7 | 49404| 16130|\n",
    "| 16  | 130307  | 9 | |260351|\n",
    "| 32  | 2094083  | 11|\n",
    "| 64  | -  | 13 |\n",
    "| 128  | -  | 15 |\n",
    "| 256  | -  | 17 |"
   ]
  },
  {
   "cell_type": "code",
   "execution_count": 15,
   "metadata": {},
   "outputs": [
    {
     "name": "stdout",
     "output_type": "stream",
     "text": [
      "depth is 4871, # of qubits is 11\n"
     ]
    }
   ],
   "source": [
    "print(\"depth is {}, # of qubits is {}\".format(qc_image.depth(), qc_image.num_qubits))"
   ]
  },
  {
   "cell_type": "code",
   "execution_count": 16,
   "metadata": {},
   "outputs": [
    {
     "name": "stdout",
     "output_type": "stream",
     "text": [
      "55\n",
      "depth is 151236\n"
     ]
    }
   ],
   "source": [
    "print(len(coupling_map[0]))\n",
    "cm = transpiler.CouplingMap(couplinglist=coupling_map[0], description=\"washington-qc coupling map\")\n",
    "wash_qc = transpile(circuits=qc_image, coupling_map=cm, basis_gates=basis_gates)\n",
    "print(\"depth is {}\".format(wash_qc.depth()))\n",
    "#wash_qc.draw()"
   ]
  },
  {
   "cell_type": "markdown",
   "metadata": {},
   "source": [
    "Circuit drawing"
   ]
  },
  {
   "cell_type": "markdown",
   "metadata": {},
   "source": [
    "Step 4: quantum circuit execution, measurments' interpretation"
   ]
  },
  {
   "cell_type": "code",
   "execution_count": 26,
   "metadata": {},
   "outputs": [
    {
     "name": "stdout",
     "output_type": "stream",
     "text": [
      "[np.int64(165), np.int64(151), np.int64(110), np.int64(141), np.int64(175), np.int64(172), np.int64(180), np.int64(152), np.int64(176), np.int64(183), np.int64(149), np.int64(166), np.int64(152), np.int64(160), np.int64(134), np.int64(206), np.int64(158), np.int64(167), np.int64(164), np.int64(151), np.int64(146), np.int64(148), np.int64(180), np.int64(168), np.int64(175), np.int64(192), np.int64(174), np.int64(139), np.int64(160), np.int64(190), np.int64(159), np.int64(158), np.int64(106), np.int64(102), np.int64(128), np.int64(103), np.int64(120), np.int64(162), np.int64(187), np.int64(113), np.int64(167), np.int64(164), np.int64(160), np.int64(159), np.int64(153), np.int64(107), np.int64(150), np.int64(177), np.int64(167), np.int64(162), np.int64(165), np.int64(176), np.int64(164), np.int64(164), np.int64(202), np.int64(180), np.int64(151), np.int64(200), np.int64(172), np.int64(192), np.int64(128), np.int64(158), np.int64(138), np.int64(109), np.int64(0), np.int64(0), np.int64(0), np.int64(0), np.int64(0), np.int64(0), np.int64(0), np.int64(0), np.int64(0), np.int64(0), np.int64(0), np.int64(0), np.int64(0), np.int64(0), np.int64(0), np.int64(0), np.int64(0), np.int64(0), np.int64(0), np.int64(0), np.int64(0), np.int64(0), np.int64(0), np.int64(0), np.int64(0), np.int64(0), np.int64(0), np.int64(0), np.int64(0), np.int64(0), np.int64(0), np.int64(0), np.int64(0), np.int64(0), np.int64(0), np.int64(0), np.int64(0), np.int64(0), np.int64(0), np.int64(0), np.int64(0), np.int64(0), np.int64(0), np.int64(0), np.int64(0), np.int64(0), np.int64(0), np.int64(0), np.int64(0), np.int64(0), np.int64(0), np.int64(0), np.int64(0), np.int64(0), np.int64(0), np.int64(0), np.int64(0), np.int64(0), np.int64(0), np.int64(0), np.int64(0), np.int64(0), np.int64(0), np.int64(0), np.int64(0), np.int64(0), np.int64(0), np.int64(0), np.int64(0), np.int64(0), np.int64(0), np.int64(0), np.int64(0), np.int64(0), np.int64(0), np.int64(0), np.int64(0), np.int64(0), np.int64(0), np.int64(0), np.int64(0), np.int64(0), np.int64(0), np.int64(0), np.int64(0), np.int64(0), np.int64(0), np.int64(0), np.int64(0), np.int64(0), np.int64(0), np.int64(0), np.int64(0), np.int64(0), np.int64(0), np.int64(0), np.int64(0), np.int64(0), np.int64(0), np.int64(0), np.int64(0), np.int64(0), np.int64(0), np.int64(0), np.int64(0), np.int64(0), np.int64(0), np.int64(0), np.int64(0), np.int64(0), np.int64(0), np.int64(0), np.int64(0), np.int64(0), np.int64(0), np.int64(0), np.int64(0), np.int64(0), np.int64(0), np.int64(0), np.int64(0), np.int64(0), np.int64(0), np.int64(0), np.int64(0), np.int64(0), np.int64(0), np.int64(0), np.int64(0), np.int64(0), np.int64(0), np.int64(0), np.int64(0), np.int64(0), np.int64(0), np.int64(0), np.int64(0), np.int64(0), np.int64(0), np.int64(0), np.int64(0), np.int64(0), np.int64(0), np.int64(0), np.int64(0), np.int64(0), np.int64(0), np.int64(0), np.int64(0), np.int64(0), np.int64(0), np.int64(0), np.int64(0), np.int64(0), np.int64(0), np.int64(0), np.int64(0), np.int64(0), np.int64(0), np.int64(0), np.int64(0), np.int64(0), np.int64(0), np.int64(0), np.int64(0), np.int64(0), np.int64(0), np.int64(0), np.int64(0), np.int64(0), np.int64(0), np.int64(0), np.int64(0), np.int64(0), np.int64(0), np.int64(0), np.int64(0), np.int64(0), np.int64(0), np.int64(0), np.int64(0), np.int64(0), np.int64(0), np.int64(0), np.int64(0), np.int64(0), np.int64(0), np.int64(0), np.int64(0), np.int64(0), np.int64(0), np.int64(0), np.int64(0), np.int64(0), np.int64(0), np.int64(0), np.int64(0), np.int64(0), np.int64(0), np.int64(0), np.int64(0), np.int64(0), np.int64(0), np.int64(0), np.int64(0), np.int64(0), np.int64(0), np.int64(0), np.int64(0), np.int64(0), np.int64(0), np.int64(0), np.int64(0), np.int64(0), np.int64(0), np.int64(0), np.int64(0), np.int64(0), np.int64(0), np.int64(0), np.int64(0), np.int64(0), np.int64(0), np.int64(0), np.int64(0), np.int64(0), np.int64(0), np.int64(0), np.int64(0), np.int64(0), np.int64(0), np.int64(0), np.int64(0), np.int64(0), np.int64(0), np.int64(0), np.int64(0), np.int64(0), np.int64(0), np.int64(0), np.int64(0), np.int64(0), np.int64(0), np.int64(0), np.int64(0), np.int64(0), np.int64(0), np.int64(0), np.int64(0), np.int64(0), np.int64(0), np.int64(0), np.int64(0), np.int64(0), np.int64(0), np.int64(0), np.int64(0), np.int64(0), np.int64(0), np.int64(0), np.int64(0), np.int64(0), np.int64(0), np.int64(0), np.int64(0), np.int64(0), np.int64(0), np.int64(0), np.int64(0), np.int64(0), np.int64(0), np.int64(0), np.int64(0), np.int64(0), np.int64(0), np.int64(0), np.int64(0), np.int64(0), np.int64(0), np.int64(0), np.int64(0), np.int64(0), np.int64(0), np.int64(0), np.int64(0), np.int64(0), np.int64(0), np.int64(0), np.int64(0), np.int64(0), np.int64(0), np.int64(0), np.int64(0), np.int64(0), np.int64(0), np.int64(0), np.int64(0), np.int64(0), np.int64(0), np.int64(0), np.int64(0), np.int64(0), np.int64(0), np.int64(0), np.int64(0), np.int64(0), np.int64(0), np.int64(0), np.int64(0), np.int64(0), np.int64(0), np.int64(0), np.int64(0), np.int64(0), np.int64(0), np.int64(0), np.int64(0), np.int64(0), np.int64(0), np.int64(0), np.int64(0), np.int64(0), np.int64(0), np.int64(0), np.int64(0), np.int64(0), np.int64(0), np.int64(0), np.int64(0), np.int64(0), np.int64(0), np.int64(0), np.int64(0), np.int64(0), np.int64(0), np.int64(0), np.int64(0), np.int64(0), np.int64(0), np.int64(0), np.int64(0), np.int64(0), np.int64(0), np.int64(0), np.int64(0), np.int64(0), np.int64(0), np.int64(0), np.int64(0), np.int64(0), np.int64(0), np.int64(0), np.int64(0), np.int64(0), np.int64(0), np.int64(0), np.int64(0), np.int64(0), np.int64(0), np.int64(0), np.int64(0), np.int64(0), np.int64(0), np.int64(0), np.int64(0), np.int64(0), np.int64(0), np.int64(0), np.int64(0), np.int64(0), np.int64(0), np.int64(0), np.int64(0), np.int64(0), np.int64(0), np.int64(0), np.int64(0), np.int64(0), np.int64(0), np.int64(0), np.int64(0), np.int64(0), np.int64(0), np.int64(0), np.int64(0), np.int64(0), np.int64(0), np.int64(0), np.int64(0), np.int64(0), np.int64(0), np.int64(0), np.int64(0), np.int64(0), np.int64(0), np.int64(0), np.int64(0), np.int64(0), np.int64(0), np.int64(0), np.int64(0), np.int64(0), np.int64(0), np.int64(0), np.int64(0), np.int64(0), np.int64(0), np.int64(0), np.int64(0), np.int64(0), np.int64(0), np.int64(0), np.int64(0), np.int64(0), np.int64(0), np.int64(0), np.int64(0), np.int64(0), np.int64(0), np.int64(0), np.int64(0), np.int64(0), np.int64(0), np.int64(0), np.int64(0), np.int64(0), np.int64(0), np.int64(0), np.int64(0), np.int64(0), np.int64(0), np.int64(0), np.int64(0), np.int64(0), np.int64(0), np.int64(0), np.int64(0), np.int64(0), np.int64(0), np.int64(0), np.int64(0), np.int64(0), np.int64(0), np.int64(0), np.int64(0), np.int64(0), np.int64(0), np.int64(0), np.int64(0), np.int64(0), np.int64(0), np.int64(0), np.int64(0), np.int64(0), np.int64(0), np.int64(0), np.int64(0), np.int64(0), np.int64(0), np.int64(0), np.int64(0), np.int64(0), np.int64(0), np.int64(0), np.int64(0), np.int64(0), np.int64(0), np.int64(0), np.int64(0), np.int64(0), np.int64(0), np.int64(0), np.int64(0), np.int64(0), np.int64(0), np.int64(0), np.int64(0), np.int64(0), np.int64(0), np.int64(0)] \n",
      " [169 171 159 189 186 185 181 179 178 189 185 176 170 179 182 186 188 183\n",
      " 184 187 185 175 182 184 176 174 169 169 158 164 180 177 202 207 201 218\n",
      " 216 216 205 215 210 215 219 210 200 201 198 204 208 199 201 211 216 197\n",
      " 194 193 190 192 185 193 194 185 202 201 180 190 190 179 176 179 167 190\n",
      " 194 210 206 197 210 214 226 223 221 217 215 208 198 201 205 206 214 223\n",
      " 221 216 202 195 182 211 162 163 162 175 170 157 172 175 167 165 165 171\n",
      " 184 197 191 177 175 176 175 179 182 174 167 173 180 178 172 157 171 186\n",
      " 186 193 149 162 166 173 165 216 244 241 214 166 198 232 206 173 222 229\n",
      " 180 217 232 232 233 212 201 221 229 224 226 233 226 218 217 214 134 142\n",
      " 149 143 190 255 231 237 255 196 204 255 210 161 246 253 171 233 255 242\n",
      " 253 255 233 233 255 252 247 251 224 215 213 215 116 111 121 116 202 255\n",
      " 194 164 210 185 195 255 200 148 242 250 159 227 255 200 213 255 226 220\n",
      " 255 236 211 198 194 191 200 205  91  95  94  91 156 255 252 201 139 125\n",
      " 189 255 189 130 242 249 137 220 255 207 227 250 194 221 255 241 220 206\n",
      " 167 166 182 200  78  78  86  83  89 168 242 255 235 125 170 255 182 121\n",
      " 240 248 141 219 255 255 255 213 126 213 255 255 255 240 140 137 163 196\n",
      "  74  72  80  89  86  90 107 204 255 187 164 255 176  93 234 249 137 223\n",
      " 255 192 220 254 201 213 255 209 168 163 121 110 119 160  71  69  68  75\n",
      " 184 229 117 130 255 196 153 255 195 113 242 246 120 218 255 177 200 255\n",
      " 203 211 255 197 135 139 134 119  98 108  64  66  68  67 146 255 240 238\n",
      " 255 140 104 246 255 241 255 197  90 220 255 168 198 255 172 185 255 196\n",
      " 129 125 112  87  79  86  58  69  69  68  72 135 185 184 126  66  66 112\n",
      " 178 191 155  95  87 161 204 161 173 202 156 146 186 145 103 109 101  93\n",
      "  87  81  52  59  63  68  70  63  60  68  64  67  66  58  61  60  61  64\n",
      "  69  81 139 182 164 154 156 157 163 176 169 165 150 138 147 144  75  72\n",
      "  75  92 101 109 109 101 102  97  97 117 116 121 119 113 113 113 131 164\n",
      " 179 173 174 182 200 194 182 178 186 180 175 176 139 139 137 145 155 161\n",
      " 161 157 162 164 167 165 162 169 154 161 165 165 163 165 174 171 178 175\n",
      " 174 175 180 170 167 163 163 162 115 121 128 136 141 148 142 142 148 154\n",
      " 158 150 152 152 156 158 151 148 152 157 170 169 173 168 162 170 164 153\n",
      " 152 145 136 125]\n"
     ]
    }
   ],
   "source": [
    "aer_sim = Aer.get_backend('aer_simulator')\n",
    "t_qc_image = transpile(qc_image, aer_sim)\n",
    "# job_oqim = aer_sim.run(qobj)\n",
    "job_oqim = aer_sim.run(t_qc_image, shots=20000)\n",
    "result_oqim = job_oqim.result()\n",
    "counts_oqim = result_oqim.get_counts()\n",
    "classical_colors = []\n",
    "for i in range(0, len(input_im)):\n",
    "    color_list = []\n",
    "    for item in counts_oqim.items():\n",
    "        key = item[0]\n",
    "        amount = item[1]\n",
    "        bin_coord = key[1:]\n",
    "        int_coord = int(bin_coord, 2)\n",
    "        if int_coord == i:\n",
    "            color_list.append((key[0], amount))\n",
    "    color_amount = 0\n",
    "    for color, amount in color_list:\n",
    "        if not int(color):\n",
    "            color_amount=color_amount+amount\n",
    "    try:\n",
    "        color = np.arccos((color_amount/sum(n for _, n in color_list))**(1/2))\n",
    "        classical_colors.append(color)\n",
    "    except ZeroDivisionError:\n",
    "        print(\"ZeroDivisionError\")\n",
    "classical_colors = list(reversed(np.interp(classical_colors, (0, np.pi/2), (0, 256)).astype(int)))\n",
    "print(classical_colors, '\\n', input_im)"
   ]
  },
  {
   "cell_type": "markdown",
   "metadata": {},
   "source": [
    "Input and measured images comparison"
   ]
  },
  {
   "cell_type": "code",
   "execution_count": 27,
   "metadata": {},
   "outputs": [],
   "source": [
    "def plot_to_compare(output_im, input_im):\n",
    "    plt.imshow(output_im, cmap = 'gray')\n",
    "    plt.title('measured image')\n",
    "    plt.show()\n",
    "    plt.imshow(input_im, cmap = 'gray')\n",
    "    plt.title('real image')\n",
    "    plt.show()"
   ]
  },
  {
   "cell_type": "code",
   "execution_count": 31,
   "metadata": {},
   "outputs": [
    {
     "data": {
      "image/png": "[encoded data removed]",
      "text/plain": [
       "<Figure size 640x480 with 1 Axes>"
      ]
     },
     "metadata": {},
     "output_type": "display_data"
    },
    {
     "data": {
      "image/png": "[encoded data removed]",
      "text/plain": [
       "<Figure size 640x480 with 1 Axes>"
      ]
     },
     "metadata": {},
     "output_type": "display_data"
    },
    {
     "name": "stdout",
     "output_type": "stream",
     "text": [
      "(17, 32)\n"
     ]
    }
   ],
   "source": [
    "plot_to_compare(np.array(classical_colors).reshape(image.shape), image)"
   ]
  }
 ],
 "metadata": {
  "kernelspec": {
   "display_name": "Python 3",
   "language": "python",
   "name": "python3"
  },
  "language_info": {
   "codemirror_mode": {
    "name": "ipython",
    "version": 3
   },
   "file_extension": ".py",
   "mimetype": "text/x-python",
   "name": "python",
   "nbconvert_exporter": "python",
   "pygments_lexer": "ipython3",
   "version": "3.12.4"
  }
 },
 "nbformat": 4,
 "nbformat_minor": 2
}
